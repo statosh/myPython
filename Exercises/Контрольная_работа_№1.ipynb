{
  "nbformat": 4,
  "nbformat_minor": 0,
  "metadata": {
    "colab": {
      "provenance": [],
      "authorship_tag": "ABX9TyMNtUB091KgG33/10OPLYPE",
      "include_colab_link": true
    },
    "kernelspec": {
      "name": "python3",
      "display_name": "Python 3"
    },
    "language_info": {
      "name": "python"
    }
  },
  "cells": [
    {
      "cell_type": "markdown",
      "metadata": {
        "id": "view-in-github",
        "colab_type": "text"
      },
      "source": [
        "<a href=\"https://colab.research.google.com/github/statosh/myPython/blob/exer/Exercises/%D0%9A%D0%BE%D0%BD%D1%82%D1%80%D0%BE%D0%BB%D1%8C%D0%BD%D0%B0%D1%8F_%D1%80%D0%B0%D0%B1%D0%BE%D1%82%D0%B0_%E2%84%961.ipynb\" target=\"_parent\"><img src=\"https://colab.research.google.com/assets/colab-badge.svg\" alt=\"Open In Colab\"/></a>"
      ]
    },
    {
      "cell_type": "markdown",
      "source": [
        "Контрольная работа №1"
      ],
      "metadata": {
        "id": "VH7Tc2p2AbTY"
      }
    },
    {
      "cell_type": "code",
      "execution_count": null,
      "metadata": {
        "colab": {
          "base_uri": "https://localhost:8080/"
        },
        "id": "Y1VmptEF9jCc",
        "outputId": "2c1524ea-a822-4c68-fd73-bbe0116ed830"
      },
      "outputs": [
        {
          "output_type": "stream",
          "name": "stdout",
          "text": [
            "Лотерея 5 из 36.\n",
            "От вас требуется ввести 5 чисел.\n",
            "\n",
            "Введите 1 число: 1\n",
            "Введите 2 число: 2\n",
            "Введите 3 число: 3\n",
            "Введите 4 число: 4\n",
            "Введите 5 число: 5\n",
            "\n",
            "К сожалению вы не угадали ни одного числа.\n"
          ]
        }
      ],
      "source": [
        "import random\n",
        "\n",
        "nums = 5\n",
        "in_min = 1\n",
        "in_max = 36\n",
        "\n",
        "right = 0\n",
        "x = 1\n",
        "\n",
        "rand = 0\n",
        "\n",
        "print(\"Лотерея \"+str(nums)+\" из \"+str(in_max)+\".\\nОт вас требуется ввести \"+str(nums)+\" чисел.\\n\")\n",
        "\n",
        "num = input(\"Введите \"+str(x)+\" число: \")\n",
        "for x in range(1, nums):\n",
        "  if not num.isdigit():\n",
        "    print(\"~Неверный тип данных!!!\")\n",
        "    num = input(\"Введите \"+str(x)+\" число: \")\n",
        "  elif not in_min <= int(num) <= in_max:\n",
        "    print(\"~Число находится вне заданного диапазона!!!\")\n",
        "    num = input(\"Введите \"+str(x)+\" число: \")\n",
        "  else:\n",
        "    rand = random.randint(in_min, in_max)\n",
        "    if int(num) == rand:\n",
        "      right += 1\n",
        "      x += 1\n",
        "      num = input(\"Введите \"+str(x)+\" число: \")\n",
        "    else:\n",
        "      x += 1\n",
        "      num = input(\"Введите \"+str(x)+\" число: \")\n",
        "    continue\n",
        "if int(num) == rand:\n",
        "  right += 1\n",
        "if right <= 1:\n",
        "  print(\"\\nК сожалению вы не угадали ни одного числа.\")\n",
        "elif right == nums:\n",
        "  print(\"\\nПоздравляем, вы угадали все \"+str(nums)+\" чисел!!!\")\n",
        "else:\n",
        "  print(\"\\nПравильных ответов \"+str(right)+\" из \"+str(nums)+\".\")\n"
      ]
    }
  ]
}